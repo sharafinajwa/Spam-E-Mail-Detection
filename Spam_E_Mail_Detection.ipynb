{
  "cells": [
    {
      "cell_type": "markdown",
      "metadata": {
        "id": "view-in-github",
        "colab_type": "text"
      },
      "source": [
        "<a href=\"https://colab.research.google.com/github/sharafinajwa/Spam-E-Mail-Detection/blob/main/Spam_E_Mail_Detection.ipynb\" target=\"_parent\"><img src=\"https://colab.research.google.com/assets/colab-badge.svg\" alt=\"Open In Colab\"/></a>"
      ]
    },
    {
      "cell_type": "code",
      "execution_count": null,
      "id": "11b0401d",
      "metadata": {
        "_cell_guid": "b1076dfc-b9ad-4769-8c92-a6c4dae69d19",
        "_uuid": "8f2839f25d086af736a60e9eeb907d3b93b6e0e5",
        "execution": {
          "iopub.execute_input": "2024-10-25T18:13:15.688278Z",
          "iopub.status.busy": "2024-10-25T18:13:15.687814Z",
          "iopub.status.idle": "2024-10-25T18:13:16.535443Z",
          "shell.execute_reply": "2024-10-25T18:13:16.534340Z"
        },
        "papermill": {
          "duration": 0.863396,
          "end_time": "2024-10-25T18:13:16.538039",
          "exception": false,
          "start_time": "2024-10-25T18:13:15.674643",
          "status": "completed"
        },
        "tags": [],
        "id": "11b0401d"
      },
      "outputs": [],
      "source": [
        "# This Python 3 environment comes with many helpful analytics libraries installed\n",
        "# It is defined by the kaggle/python Docker image: https://github.com/kaggle/docker-python\n",
        "# For example, here's several helpful packages to load\n",
        "\n",
        "import numpy as np # linear algebra\n",
        "import pandas as pd # data processing, CSV file I/O (e.g. pd.read_csv)\n",
        "\n",
        "# Input data files are available in the read-only \"../input/\" directory\n",
        "# For example, running this (by clicking run or pressing Shift+Enter) will list all files under the input directory\n",
        "\n",
        "#import os\n",
        "#for dirname, _, filenames in os.walk('/kaggle/input'):\n",
        "#    for filename in filenames:\n",
        "#        print(os.path.join(dirname, filename))\n",
        "\n",
        "# You can write up to 20GB to the current directory (/kaggle/working/) that gets preserved as output when you create a version using \"Save & Run All\"\n",
        "# You can also write temporary files to /kaggle/temp/, but they won't be saved outside of the current session"
      ]
    },
    {
      "cell_type": "code",
      "source": [
        "from google.colab import drive\n",
        "drive.mount('/content/drive')"
      ],
      "metadata": {
        "id": "hJ3XGuGXZoBp"
      },
      "id": "hJ3XGuGXZoBp",
      "execution_count": null,
      "outputs": []
    },
    {
      "cell_type": "code",
      "execution_count": null,
      "id": "dca2f2a2",
      "metadata": {
        "execution": {
          "iopub.execute_input": "2024-10-25T18:13:16.560055Z",
          "iopub.status.busy": "2024-10-25T18:13:16.559465Z",
          "iopub.status.idle": "2024-10-25T18:13:18.058896Z",
          "shell.execute_reply": "2024-10-25T18:13:18.057692Z"
        },
        "papermill": {
          "duration": 1.513962,
          "end_time": "2024-10-25T18:13:18.062292",
          "exception": false,
          "start_time": "2024-10-25T18:13:16.548330",
          "status": "completed"
        },
        "tags": [],
        "id": "dca2f2a2"
      },
      "outputs": [],
      "source": [
        "import pandas as pd\n",
        "from sklearn.model_selection import train_test_split\n",
        "from sklearn.feature_extraction.text import TfidfVectorizer\n",
        "from sklearn.linear_model import LogisticRegression\n",
        "from sklearn.metrics import classification_report ,accuracy_score\n",
        "from sklearn.metrics import classification_report, confusion_matrix\n",
        "from sklearn.metrics import accuracy_score, f1_score\n"
      ]
    },
    {
      "cell_type": "markdown",
      "id": "b0f2750c",
      "metadata": {
        "papermill": {
          "duration": 0.010425,
          "end_time": "2024-10-25T18:13:18.086909",
          "exception": false,
          "start_time": "2024-10-25T18:13:18.076484",
          "status": "completed"
        },
        "tags": [],
        "id": "b0f2750c"
      },
      "source": [
        "# DATA HANDLING"
      ]
    },
    {
      "cell_type": "code",
      "execution_count": null,
      "id": "ab7e3bed",
      "metadata": {
        "execution": {
          "iopub.execute_input": "2024-10-25T18:13:18.112832Z",
          "iopub.status.busy": "2024-10-25T18:13:18.111065Z",
          "iopub.status.idle": "2024-10-25T18:13:18.168597Z",
          "shell.execute_reply": "2024-10-25T18:13:18.167414Z"
        },
        "papermill": {
          "duration": 0.073734,
          "end_time": "2024-10-25T18:13:18.171704",
          "exception": false,
          "start_time": "2024-10-25T18:13:18.097970",
          "status": "completed"
        },
        "tags": [],
        "id": "ab7e3bed"
      },
      "outputs": [],
      "source": [
        "data=pd.read_csv('/content/drive/MyDrive/Project KA/archive/spam.csv')\n",
        "data.head()"
      ]
    },
    {
      "cell_type": "code",
      "execution_count": null,
      "id": "a17ac09f",
      "metadata": {
        "execution": {
          "iopub.execute_input": "2024-10-25T18:13:18.201927Z",
          "iopub.status.busy": "2024-10-25T18:13:18.200780Z",
          "iopub.status.idle": "2024-10-25T18:13:18.214825Z",
          "shell.execute_reply": "2024-10-25T18:13:18.213642Z"
        },
        "papermill": {
          "duration": 0.030287,
          "end_time": "2024-10-25T18:13:18.217410",
          "exception": false,
          "start_time": "2024-10-25T18:13:18.187123",
          "status": "completed"
        },
        "tags": [],
        "id": "a17ac09f"
      },
      "outputs": [],
      "source": [
        "X=data['Message']\n",
        "# Replace null values with an empty string if any exist\n",
        "X = X.fillna('')\n",
        "Y=data['Category']\n",
        "Y=Y.map({'ham':0 , 'spam':1}).astype('int')"
      ]
    },
    {
      "cell_type": "code",
      "execution_count": null,
      "id": "a1ce5cca",
      "metadata": {
        "execution": {
          "iopub.execute_input": "2024-10-25T18:13:18.240557Z",
          "iopub.status.busy": "2024-10-25T18:13:18.239539Z",
          "iopub.status.idle": "2024-10-25T18:13:18.248767Z",
          "shell.execute_reply": "2024-10-25T18:13:18.247570Z"
        },
        "papermill": {
          "duration": 0.023617,
          "end_time": "2024-10-25T18:13:18.251329",
          "exception": false,
          "start_time": "2024-10-25T18:13:18.227712",
          "status": "completed"
        },
        "tags": [],
        "id": "a1ce5cca"
      },
      "outputs": [],
      "source": [
        "null_value_count=X.isnull().sum()\n",
        "print(null_value_count)"
      ]
    },
    {
      "cell_type": "code",
      "execution_count": null,
      "id": "610fe138",
      "metadata": {
        "execution": {
          "iopub.execute_input": "2024-10-25T18:13:18.274870Z",
          "iopub.status.busy": "2024-10-25T18:13:18.273694Z",
          "iopub.status.idle": "2024-10-25T18:13:18.287345Z",
          "shell.execute_reply": "2024-10-25T18:13:18.285774Z"
        },
        "papermill": {
          "duration": 0.038056,
          "end_time": "2024-10-25T18:13:18.299802",
          "exception": false,
          "start_time": "2024-10-25T18:13:18.261746",
          "status": "completed"
        },
        "tags": [],
        "id": "610fe138"
      },
      "outputs": [],
      "source": [
        "x_train , x_test , y_train , y_test = train_test_split(X,Y ,test_size=0.25, random_state=42)\n",
        "print(f\"the shape of x_train and y_train is {x_train.shape} and {y_train.shape}\")\n",
        "\n",
        "#we have to reshape it\n"
      ]
    },
    {
      "cell_type": "code",
      "execution_count": null,
      "id": "ed5b2908",
      "metadata": {
        "execution": {
          "iopub.execute_input": "2024-10-25T18:13:18.323763Z",
          "iopub.status.busy": "2024-10-25T18:13:18.323310Z",
          "iopub.status.idle": "2024-10-25T18:13:18.506237Z",
          "shell.execute_reply": "2024-10-25T18:13:18.504994Z"
        },
        "papermill": {
          "duration": 0.197942,
          "end_time": "2024-10-25T18:13:18.509189",
          "exception": false,
          "start_time": "2024-10-25T18:13:18.311247",
          "status": "completed"
        },
        "tags": [],
        "id": "ed5b2908"
      },
      "outputs": [],
      "source": [
        "vectorization = TfidfVectorizer(min_df=1, stop_words='english', lowercase=True)\n",
        "\n",
        "x_train=vectorization.fit_transform(x_train)\n",
        "x_test=vectorization.transform(x_test)"
      ]
    },
    {
      "cell_type": "code",
      "execution_count": null,
      "id": "5e9b350b",
      "metadata": {
        "execution": {
          "iopub.execute_input": "2024-10-25T18:13:18.532422Z",
          "iopub.status.busy": "2024-10-25T18:13:18.531828Z",
          "iopub.status.idle": "2024-10-25T18:13:18.540787Z",
          "shell.execute_reply": "2024-10-25T18:13:18.538762Z"
        },
        "papermill": {
          "duration": 0.024071,
          "end_time": "2024-10-25T18:13:18.543940",
          "exception": false,
          "start_time": "2024-10-25T18:13:18.519869",
          "status": "completed"
        },
        "tags": [],
        "id": "5e9b350b"
      },
      "outputs": [],
      "source": [
        "print(x_train)"
      ]
    },
    {
      "cell_type": "markdown",
      "id": "0e38fed2",
      "metadata": {
        "papermill": {
          "duration": 0.010353,
          "end_time": "2024-10-25T18:13:18.568042",
          "exception": false,
          "start_time": "2024-10-25T18:13:18.557689",
          "status": "completed"
        },
        "tags": [],
        "id": "0e38fed2"
      },
      "source": [
        "# Model training\n"
      ]
    },
    {
      "cell_type": "code",
      "execution_count": null,
      "id": "2a96f34a",
      "metadata": {
        "execution": {
          "iopub.execute_input": "2024-10-25T18:13:18.591586Z",
          "iopub.status.busy": "2024-10-25T18:13:18.590591Z",
          "iopub.status.idle": "2024-10-25T18:13:18.660203Z",
          "shell.execute_reply": "2024-10-25T18:13:18.659061Z"
        },
        "papermill": {
          "duration": 0.085202,
          "end_time": "2024-10-25T18:13:18.663710",
          "exception": false,
          "start_time": "2024-10-25T18:13:18.578508",
          "status": "completed"
        },
        "tags": [],
        "id": "2a96f34a"
      },
      "outputs": [],
      "source": [
        "model=LogisticRegression()\n",
        "model.fit(x_train,y_train)\n",
        "y_pred=model.predict(x_test)"
      ]
    },
    {
      "cell_type": "markdown",
      "id": "7f101e17",
      "metadata": {
        "papermill": {
          "duration": 0.010159,
          "end_time": "2024-10-25T18:13:18.687372",
          "exception": false,
          "start_time": "2024-10-25T18:13:18.677213",
          "status": "completed"
        },
        "tags": [],
        "id": "7f101e17"
      },
      "source": [
        "# SCORE\n"
      ]
    },
    {
      "cell_type": "code",
      "execution_count": null,
      "id": "a4ba1434",
      "metadata": {
        "execution": {
          "iopub.execute_input": "2024-10-25T18:13:18.711149Z",
          "iopub.status.busy": "2024-10-25T18:13:18.710063Z",
          "iopub.status.idle": "2024-10-25T18:13:18.734425Z",
          "shell.execute_reply": "2024-10-25T18:13:18.732945Z"
        },
        "papermill": {
          "duration": 0.039349,
          "end_time": "2024-10-25T18:13:18.737223",
          "exception": false,
          "start_time": "2024-10-25T18:13:18.697874",
          "status": "completed"
        },
        "tags": [],
        "id": "a4ba1434"
      },
      "outputs": [],
      "source": [
        "print(\"Confusion Matrix:\\n\", confusion_matrix(y_test, y_pred))\n",
        "print(\"Classification Report:\\n\", classification_report(y_test, y_pred))"
      ]
    },
    {
      "cell_type": "code",
      "execution_count": null,
      "id": "5a931d11",
      "metadata": {
        "execution": {
          "iopub.execute_input": "2024-10-25T18:13:18.760944Z",
          "iopub.status.busy": "2024-10-25T18:13:18.760394Z",
          "iopub.status.idle": "2024-10-25T18:13:18.774910Z",
          "shell.execute_reply": "2024-10-25T18:13:18.773377Z"
        },
        "papermill": {
          "duration": 0.029784,
          "end_time": "2024-10-25T18:13:18.777747",
          "exception": false,
          "start_time": "2024-10-25T18:13:18.747963",
          "status": "completed"
        },
        "tags": [],
        "id": "5a931d11"
      },
      "outputs": [],
      "source": [
        "accuracy = accuracy_score(y_test, y_pred)\n",
        "\n",
        "# Calculate F1 score\n",
        "f1 = f1_score(y_test, y_pred, average='binary')  # Use 'binary' for two classes (spam/ham)\n",
        "\n",
        "# Print results\n",
        "print(\"Accuracy:\", accuracy)\n",
        "print(\"F1 Score:\", f1)"
      ]
    },
    {
      "cell_type": "markdown",
      "id": "6ae9bb21",
      "metadata": {
        "papermill": {
          "duration": 0.010517,
          "end_time": "2024-10-25T18:13:18.820888",
          "exception": false,
          "start_time": "2024-10-25T18:13:18.810371",
          "status": "completed"
        },
        "tags": [],
        "id": "6ae9bb21"
      },
      "source": [
        "# PREDITION SYSTEM\n"
      ]
    },
    {
      "cell_type": "code",
      "execution_count": null,
      "id": "35b2dd4a",
      "metadata": {
        "execution": {
          "iopub.execute_input": "2024-10-25T18:13:18.866351Z",
          "iopub.status.busy": "2024-10-25T18:13:18.865792Z",
          "iopub.status.idle": "2024-10-25T18:13:18.877009Z",
          "shell.execute_reply": "2024-10-25T18:13:18.875744Z"
        },
        "papermill": {
          "duration": 0.026253,
          "end_time": "2024-10-25T18:13:18.879568",
          "exception": false,
          "start_time": "2024-10-25T18:13:18.853315",
          "status": "completed"
        },
        "tags": [],
        "id": "35b2dd4a"
      },
      "outputs": [],
      "source": [
        "x=X.iloc[2]\n",
        "input_mail=[x]\n",
        "# Transform the input email using the vectorizer\n",
        "input_mail_tfidf = vectorization.transform(input_mail)\n",
        "\n",
        "# Make the prediction\n",
        "prediction = model.predict(input_mail_tfidf)\n",
        "\n",
        "\n",
        "\n",
        "\n",
        "if prediction==[0]:\n",
        "     print('ham')\n",
        "else:\n",
        "    print('spam')"
      ]
    }
  ],
  "metadata": {
    "kaggle": {
      "accelerator": "none",
      "dataSources": [
        {
          "datasetId": 1422521,
          "sourceId": 2355807,
          "sourceType": "datasetVersion"
        }
      ],
      "dockerImageVersionId": 30786,
      "isGpuEnabled": false,
      "isInternetEnabled": true,
      "language": "python",
      "sourceType": "notebook"
    },
    "kernelspec": {
      "display_name": "Python 3",
      "language": "python",
      "name": "python3"
    },
    "language_info": {
      "codemirror_mode": {
        "name": "ipython",
        "version": 3
      },
      "file_extension": ".py",
      "mimetype": "text/x-python",
      "name": "python",
      "nbconvert_exporter": "python",
      "pygments_lexer": "ipython3",
      "version": "3.10.14"
    },
    "papermill": {
      "default_parameters": {},
      "duration": 7.178632,
      "end_time": "2024-10-25T18:13:19.881239",
      "environment_variables": {},
      "exception": null,
      "input_path": "__notebook__.ipynb",
      "output_path": "__notebook__.ipynb",
      "parameters": {},
      "start_time": "2024-10-25T18:13:12.702607",
      "version": "2.6.0"
    },
    "colab": {
      "provenance": [],
      "include_colab_link": true
    }
  },
  "nbformat": 4,
  "nbformat_minor": 5
}